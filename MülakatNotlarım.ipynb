{
  "nbformat": 4,
  "nbformat_minor": 0,
  "metadata": {
    "colab": {
      "provenance": [],
      "collapsed_sections": [
        "mEaOLpvbSMiY"
      ],
      "toc_visible": true,
      "authorship_tag": "ABX9TyP437m30paJeHTRAMuCfEIS",
      "include_colab_link": true
    },
    "kernelspec": {
      "name": "python3",
      "display_name": "Python 3"
    },
    "language_info": {
      "name": "python"
    }
  },
  "cells": [
    {
      "cell_type": "markdown",
      "metadata": {
        "id": "view-in-github",
        "colab_type": "text"
      },
      "source": [
        "<a href=\"https://colab.research.google.com/github/Oguzaltiner/Python-Notlarim/blob/master/M%C3%BClakatNotlar%C4%B1m.ipynb\" target=\"_parent\"><img src=\"https://colab.research.google.com/assets/colab-badge.svg\" alt=\"Open In Colab\"/></a>"
      ]
    },
    {
      "cell_type": "markdown",
      "source": [
        "# JUNİOR - LEVEL\n"
      ],
      "metadata": {
        "id": "mEaOLpvbSMiY"
      }
    },
    {
      "cell_type": "markdown",
      "source": [
        "##SOLİD NEDİR ? DETAYLI AÇIKLAMASINI ÖRNEKLENDİREREK YAPAR MISIN ? TEK CÜMLE İLE ?\n"
      ],
      "metadata": {
        "id": "bSzNhJpTSV3c"
      }
    },
    {
      "cell_type": "markdown",
      "source": [
        "##REFERANCE TYPE VE VALUE TYPE NEDİR ? KISACA FARKLARINDAN BAHSET ?\n"
      ],
      "metadata": {
        "id": "HHDBKkHbSs87"
      }
    },
    {
      "cell_type": "markdown",
      "source": [
        "##STRİNG VE STRİNG BUİLDER ARASINDAKİ FARK ? VE STACK VE HEAP KISIMLARINDA TUTULUR MU ?\n"
      ],
      "metadata": {
        "id": "JfjoR37XS-Gg"
      }
    },
    {
      "cell_type": "markdown",
      "source": [
        "##OOP TEMELLERİNİ AÇIKLAYABİLİR MİSİN?"
      ],
      "metadata": {
        "id": "iclVND7RTUxZ"
      }
    },
    {
      "cell_type": "markdown",
      "source": [
        "## ORM NEDİR ?\n"
      ],
      "metadata": {
        "id": "p1POAvmNTU0V"
      }
    },
    {
      "cell_type": "markdown",
      "source": [
        "##  ASPECT ORİENTED PROGRAMMİNG NEDİR\n"
      ],
      "metadata": {
        "id": "ufCm5httTU3E"
      }
    },
    {
      "cell_type": "markdown",
      "source": [
        "## Cross Cutting Concerns Nedir?\n"
      ],
      "metadata": {
        "id": "FhdJih8jTU5j"
      }
    },
    {
      "cell_type": "markdown",
      "source": [
        "##  INTERFACE VS ABSTRACT NEDİR FARKLARI NELERDİR ?"
      ],
      "metadata": {
        "id": "1CXAAusZTU8I"
      }
    },
    {
      "cell_type": "markdown",
      "source": [
        "## PROCESS NEDİR ?"
      ],
      "metadata": {
        "id": "pm5EUGPrT2F2"
      }
    },
    {
      "cell_type": "markdown",
      "source": [
        "## VİRTUAL NEDİR\n"
      ],
      "metadata": {
        "id": "6OFV7soeT9Of"
      }
    },
    {
      "cell_type": "markdown",
      "source": [
        "## OVERRİDE NEDİR\n"
      ],
      "metadata": {
        "id": "sVO01YDSUoU4"
      }
    },
    {
      "cell_type": "markdown",
      "source": [
        "## MİCROSERVİS NEDİR?\n"
      ],
      "metadata": {
        "id": "YaFT6TMkUpr1"
      }
    },
    {
      "cell_type": "markdown",
      "source": [
        "##MVC LİFECYLE BAHSEDER MİSİN?\n"
      ],
      "metadata": {
        "id": "CP9pekJkU1DO"
      }
    },
    {
      "cell_type": "markdown",
      "source": [
        "##LİNQ NEDİR ?\n"
      ],
      "metadata": {
        "id": "jHkfyXQzU08A"
      }
    },
    {
      "cell_type": "markdown",
      "source": [
        "## NORMALİZASYON NEDİR ?"
      ],
      "metadata": {
        "id": "xnIps-a-U05K"
      }
    },
    {
      "cell_type": "markdown",
      "source": [
        "##JAVA SCRİPTEKİ == VE === ARASINDAKİ FARK NEDİR ?\n"
      ],
      "metadata": {
        "id": "oFWrc4ZNU02k"
      }
    },
    {
      "cell_type": "markdown",
      "source": [
        "##İNDEX NEDİR ? CLUSTERED İNDEX NEDİR\n"
      ],
      "metadata": {
        "id": "My8ityhTU00V"
      }
    },
    {
      "cell_type": "markdown",
      "source": [
        "##REST APİ NEDİR ?"
      ],
      "metadata": {
        "id": "w-cNDjhhU0x5"
      }
    },
    {
      "cell_type": "markdown",
      "source": [
        "## DESİGN PATTERNLAR NELERDİR ?\n"
      ],
      "metadata": {
        "id": "aG7UfFRLU0vb"
      }
    },
    {
      "cell_type": "markdown",
      "source": [
        "##İSİMLENDİRME STANDARTLARI NELERDİR ? C# DA METOD VE CLASS İSİMLERİNDE NE KULLANIRIZ."
      ],
      "metadata": {
        "id": "oJI0CdU8Vp_N"
      }
    },
    {
      "cell_type": "markdown",
      "source": [
        "## VCS GİT , SVN BUNLAR NEDİR ?\n"
      ],
      "metadata": {
        "id": "rZZybwYVaAOP"
      }
    },
    {
      "cell_type": "markdown",
      "source": [],
      "metadata": {
        "id": "O372T2-1aAUS"
      }
    },
    {
      "cell_type": "markdown",
      "source": [],
      "metadata": {
        "id": "-v364vFVaAXQ"
      }
    },
    {
      "cell_type": "markdown",
      "source": [],
      "metadata": {
        "id": "xnxK2g71aAZ9"
      }
    },
    {
      "cell_type": "markdown",
      "source": [
        "# MID-LEVEL"
      ],
      "metadata": {
        "id": "WmR70o20ph3e"
      }
    },
    {
      "cell_type": "markdown",
      "source": [
        "## THREAD SAFE"
      ],
      "metadata": {
        "id": "-E2M0oo1pmMV"
      }
    },
    {
      "cell_type": "markdown",
      "source": [
        "## DAPPERI DİĞER ORM"
      ],
      "metadata": {
        "id": "z1POE6rzpmVz"
      }
    },
    {
      "cell_type": "markdown",
      "source": [
        "## WEB STORAGE NEDİR"
      ],
      "metadata": {
        "id": "7ClvrEqdpmYp"
      }
    },
    {
      "cell_type": "markdown",
      "source": [
        "## STORAGE PROCEDURE FUNCTİON FARKI NEDİR"
      ],
      "metadata": {
        "id": "2Exkt3qhpmbd"
      }
    },
    {
      "cell_type": "markdown",
      "source": [
        "## SİNGLETON , SCOPED VE  DİĞERİ FARKI NEDİR"
      ],
      "metadata": {
        "id": "O9kervdqpmeG"
      }
    },
    {
      "cell_type": "markdown",
      "source": [
        "## SİNGLETON VE STATİC SINIFLAR ARASINDAKİ FARK"
      ],
      "metadata": {
        "id": "5UVILKe7pmgw"
      }
    },
    {
      "cell_type": "markdown",
      "source": [
        "## STRİNG HEAP VE STEACK ARASINDAKİ FARK NEDİR ?"
      ],
      "metadata": {
        "id": "I8kZPzszpmjf"
      }
    },
    {
      "cell_type": "markdown",
      "source": [
        "##SEALD NEDİR ?"
      ],
      "metadata": {
        "id": "97huih_8pmmj"
      }
    },
    {
      "cell_type": "markdown",
      "source": [
        "## DEPENDENCY INJECTİON  .NET 6 DA SİNGLETON  ARASINDAKİ FARK , HANGİ TÜR NESNELERİ SİNGLETON VEYA TRANSİT"
      ],
      "metadata": {
        "id": "1frKHxzvqHIt"
      }
    },
    {
      "cell_type": "markdown",
      "source": [
        "## IENURABLE VS IQUERBLE FARKI , SQL ÇALIŞIR VERİ DATABASDEN UYGULAMAMA GELİR ILİST KEY ARASINDAKİ FARKI"
      ],
      "metadata": {
        "id": "dRbIhjx8qHmV"
      }
    },
    {
      "cell_type": "markdown",
      "source": [
        "## LİNQ QUERYLERİ NASIL FİRORDEFAULT ,FİRST ,SİNGLE VS SİNGLEORDEFAULT"
      ],
      "metadata": {
        "id": "FlJzadOVqJen"
      }
    },
    {
      "cell_type": "markdown",
      "source": [
        "## NUNIT TESTTİ KULLANDIĞINDA MOCK  LİBRARY SORABİLİRLER."
      ],
      "metadata": {
        "id": "BBOH0NrAqKze"
      }
    },
    {
      "cell_type": "markdown",
      "source": [
        "## NHIBERNATE  NEDEN BAK, YAPILARA BAKABİLİRSİN"
      ],
      "metadata": {
        "id": "EMHFfWAFqMAV"
      }
    },
    {
      "cell_type": "markdown",
      "source": [
        "##  sql plsql de veritabanın relational database genel özellikleri AC/ İD"
      ],
      "metadata": {
        "id": "7K_9JvQWqNJ7"
      }
    },
    {
      "cell_type": "markdown",
      "source": [
        "#SENİOR-LEVEL"
      ],
      "metadata": {
        "id": "_qeeXseBqRFB"
      }
    },
    {
      "cell_type": "markdown",
      "source": [
        " ## MVC LİFECYLE  => SİSTEMDE SAYFA ÇOK GEÇ YÜKLENİYOR ? BİR SAYFADA MI SIKINTI  VAR VS"
      ],
      "metadata": {
        "id": "BkXkic5xqVL1"
      }
    },
    {
      "cell_type": "markdown",
      "source": [
        "##   BİR TABLODA A B C İNDEX TANIMLADIM , WHERE SADECE A VE B İÇİN EKLEDİM İNDEX ÇALIŞIR MI ÇALIŞIR ?  SKİP İNDEX Mİ NE A YI ATLAYIP B VE C YE BAKIYOR ,"
      ],
      "metadata": {
        "id": "8QZEDyE4qWuR"
      }
    },
    {
      "cell_type": "markdown",
      "source": [
        "## ORACLE DA ÇALIŞACAĞIZ , TECRÜBEN YOK DİYEBİLİRLER , MSSQL KULLANDIM RELATİONIL DATABSELER GENEL OLARAK BENZİYOR, FOREİNG KEY , EXPLAİNLARA BAKIYORSUN, RELATİON TEMEL ÖZELLİKLERİ AYNI ACID ÖZELLİKLERİ ,"
      ],
      "metadata": {
        "id": "VZzHf0rpqYOz"
      }
    },
    {
      "cell_type": "markdown",
      "source": [
        "## BASKI ALTINDASIN CANLIDA SIKINTI OLDU , SİSTEM YAVAŞ OLDU LOGLARA BAKABİLİRİZ. LOGLARA GÖREMİYORSAM YETKİ İSTERİM . İZLEME SİSTEMLERİ VARSA , YETKİM DAHİLİNDE BAKARIM."
      ],
      "metadata": {
        "id": "FZGeGiiVqaVH"
      }
    },
    {
      "cell_type": "markdown",
      "source": [
        "## LİFE CYLE SORABİLİRLER. CI / CD   PULL REQUESTLERİ REVİEW YAPIYOR MUSUNUZ   => GELİRSE SENİ BİR ADIM ÖNE ÇIKARIR."
      ],
      "metadata": {
        "id": "FxmFnjeZqcjt"
      }
    },
    {
      "cell_type": "markdown",
      "source": [
        "## VERSİON FARKLARINA BAKABİLİRSİN, YENİ C# VERSİONLARI DEFAULT CONSTRUCTOR GELCEK DİYEBİLİRSİNN."
      ],
      "metadata": {
        "id": "hSr13YJuqcmd"
      }
    },
    {
      "cell_type": "markdown",
      "source": [
        "## DİSPOSBLE İYİ BAK"
      ],
      "metadata": {
        "id": "Esl3z_s7qcpQ"
      }
    },
    {
      "cell_type": "markdown",
      "source": [
        "## DİSPOSE OLAYINA BAK C# DA"
      ],
      "metadata": {
        "id": "IBwUeGzVqcr-"
      }
    },
    {
      "cell_type": "markdown",
      "source": [
        "## IDİSPOSBLE İNTERFACE VAR , HTTPREQUESTLERİNDE HTTPRESPONSE DİSPOS ETMEMİZ GEREKİR DİYEBİLİRSİN."
      ],
      "metadata": {
        "id": "5FiZCbU2qcva"
      }
    },
    {
      "cell_type": "markdown",
      "source": [
        "## REFİQ KÜTÜPHANESİ BAKABİLİRSİN."
      ],
      "metadata": {
        "id": "dksDZ-uPqnds"
      }
    },
    {
      "cell_type": "markdown",
      "source": [
        "## ANSI STANDARTLARI NEDİR MSSSQL"
      ],
      "metadata": {
        "id": "q-WQUspyqn-T"
      }
    },
    {
      "cell_type": "markdown",
      "source": [
        "## EXPLAİN ACID, IZOLATİON LEVEL , İNDEX CONTEX, DEADLOCK NASIL OLUŞUR, SORMAZLAR MUHTEMELEN BUNU PHANTOM READ PROBLEM İN SQL DİRTY READ YAPMALI MISIN."
      ],
      "metadata": {
        "id": "7i33NQdUqpbT"
      }
    },
    {
      "cell_type": "markdown",
      "source": [
        "## CURCED PATTERN  ? NOT ALMIŞ ERAY ABİ İŞKURDA  1. MEMORY 2.CİSİ  REDİS 3. DATABASE SONRA DOLDURARAK BAKIYOR. REDİS ÇALIŞMAYINCA UYGULAMA YAVAŞLIYOR. REDİS ÇALIŞMAZSA REDİSTEN 10 KERE HATA  ÇALIŞTIRMA DEVRE KESTİM"
      ],
      "metadata": {
        "id": "ObYakZlEqrEm"
      }
    },
    {
      "cell_type": "markdown",
      "source": [
        "##CQRS ,EVENT SOURCİNG , SİDE-CURN PATTER,  CAREGROİFY ,  "
      ],
      "metadata": {
        "id": "f7L4hZcDqv_B"
      }
    },
    {
      "cell_type": "markdown",
      "source": [
        "## EXECUTİN PLANLARINA BAK, İNDEX EKLEMEN İ UNİT İNDEX FOREGİN KEY VS İNDEXLERE BAK COVERİNG İNDEXLERE BAK, COVER DATABASE ACCESS YAPMADAN İNDEXTEN İŞİNİ YAPIYOR."
      ],
      "metadata": {
        "id": "dTvSANoDqxKZ"
      }
    },
    {
      "cell_type": "markdown",
      "source": [
        "## EXPLLAİN DOĞRU İPUÇLARI FULL TABLE ACCESS , İNDEX RANGE SCAN , TABLE ROW ACCESS , BY İNDEX GİBİ KIRILMLAR VAR, , TABLOYU KULLANMADADAN DİREK İNDEX BAKAR"
      ],
      "metadata": {
        "id": "lz-Hocsoq1nF"
      }
    },
    {
      "cell_type": "markdown",
      "source": [
        "## BİR SORGUN VAR YAVAŞ ÇALIŞMAYA BAŞLADI İNDEX REBUİİLD İSTERİM.  DUYMAK İSTEDİĞİ EXPLAİN PLANE BAK , ORACLE İÇİN OPTİMAZER VAR EN OPTİMİMDA ÇALIŞIYOR"
      ],
      "metadata": {
        "id": "PXzwcIOKq4Gj"
      }
    },
    {
      "cell_type": "markdown",
      "source": [
        "## deadlock durumunda  , IZOLATİON LEVELLAR VAR READ COMMİTED VAR KUYRUĞA ALABİLİRZ.B76:B83 EXCULUSİVE LOCK SHERAD LOCK ,"
      ],
      "metadata": {
        "id": "kl9E82rxq5s-"
      }
    },
    {
      "cell_type": "markdown",
      "source": [
        "## EXCLUSİVE LOCK DEADLOCKA SEBEP OLABİLİR."
      ],
      "metadata": {
        "id": "jRNwPHByq8kn"
      }
    },
    {
      "cell_type": "markdown",
      "source": [
        "## AKBANTA SAGA PATTERN  KULLANIYOR"
      ],
      "metadata": {
        "id": "RNUSITcTqszj"
      }
    }
  ]
}